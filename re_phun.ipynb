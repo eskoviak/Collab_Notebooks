{
  "nbformat": 4,
  "nbformat_minor": 0,
  "metadata": {
    "colab": {
      "name": "re_phun.ipynb",
      "provenance": [],
      "collapsed_sections": [],
      "private_outputs": true,
      "mount_file_id": "1tuOZ4RVBvQ9aBQoa5Y3jXxyxNufxh6In",
      "authorship_tag": "ABX9TyMjoOVTYOhvjGOdBBNf45Bu",
      "include_colab_link": true
    },
    "kernelspec": {
      "name": "python3",
      "display_name": "Python 3"
    },
    "language_info": {
      "name": "python"
    }
  },
  "cells": [
    {
      "cell_type": "markdown",
      "metadata": {
        "id": "view-in-github",
        "colab_type": "text"
      },
      "source": [
        "<a href=\"https://colab.research.google.com/github/eskoviak/Collab_Notebooks/blob/main/re_phun.ipynb\" target=\"_parent\"><img src=\"https://colab.research.google.com/assets/colab-badge.svg\" alt=\"Open In Colab\"/></a>"
      ]
    },
    {
      "cell_type": "code",
      "execution_count": null,
      "metadata": {
        "id": "fNDW0TRl8HRJ"
      },
      "outputs": [],
      "source": [
        "import re\n",
        "import numpy as np\n",
        "\n",
        "strings = ['135, 135', '(135, 140)', '1x(45)', '1x(135, 135, 140, 141)', '5x(135)', '4x(135)se']\n",
        "\n",
        "flags_dict = {\n",
        "    'r' : 'repeat',\n",
        "    'd' : 'two handed',\n",
        "    's' : 'one handed, per side',\n",
        "    'e' : 'EMOM'\n",
        "}\n",
        "for string in strings:\n",
        "  multiplier = re.match(r'^\\d*(?=x)', string)\n",
        "  if not multiplier: \n",
        "    rstring = (f\"x({string})\").replace('((', '(').replace('))', ')')\n",
        "  else: rstring = string\n",
        "  rstring = rstring.replace(')', ',)')\n",
        "  sequence = re.search(r'(?<=x)(\\()?(\\w([,\\s])*)+(\\))?', rstring)\n",
        "  flags = re.search(r'(?<=\\))[a-zA-Z]+', rstring)\n",
        "  print(f\"{ np.repeat(list(eval(sequence.group(0))), int(multiplier.group(0) if multiplier else 1)) if sequence else None} | {flags.group(0) if flags else None}\")\n"
      ]
    },
    {
      "cell_type": "code",
      "source": [
        "print(list(eval('135')))\n"
      ],
      "metadata": {
        "id": "KMRR34whn-DM"
      },
      "execution_count": null,
      "outputs": []
    },
    {
      "cell_type": "code",
      "source": [
        "import numpy as np\n",
        "import pandas as pd\n",
        "\n",
        "df = pd.read_csv('sample_data/Weight History.csv')"
      ],
      "metadata": {
        "id": "_HUzyBACkfS6"
      },
      "execution_count": null,
      "outputs": []
    },
    {
      "cell_type": "code",
      "source": [
        "pd.to_datetime(df['Date'], utc=True)"
      ],
      "metadata": {
        "id": "f2gQjPcwnbeA"
      },
      "execution_count": null,
      "outputs": []
    }
  ]
}