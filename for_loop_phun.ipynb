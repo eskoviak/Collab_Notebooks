{
  "nbformat": 4,
  "nbformat_minor": 0,
  "metadata": {
    "colab": {
      "name": "for_loop_phun.ipynb",
      "provenance": [],
      "authorship_tag": "ABX9TyP4bR70FVHKI6853nEZFtp5",
      "include_colab_link": true
    },
    "kernelspec": {
      "name": "python3",
      "display_name": "Python 3"
    },
    "language_info": {
      "name": "python"
    }
  },
  "cells": [
    {
      "cell_type": "markdown",
      "metadata": {
        "id": "view-in-github",
        "colab_type": "text"
      },
      "source": [
        "<a href=\"https://colab.research.google.com/github/eskoviak/Collab_Notebooks/blob/main/for_loop_phun.ipynb\" target=\"_parent\"><img src=\"https://colab.research.google.com/assets/colab-badge.svg\" alt=\"Open In Colab\"/></a>"
      ]
    },
    {
      "cell_type": "markdown",
      "source": [
        "## Set up the play thing"
      ],
      "metadata": {
        "id": "FNKL0eSTaYLW"
      }
    },
    {
      "cell_type": "code",
      "execution_count": 2,
      "metadata": {
        "id": "rXxIL7iTZJmc"
      },
      "outputs": [],
      "source": [
        "import numpy.random as rd\n",
        "x = rd.randn(25)\n",
        "\n"
      ]
    },
    {
      "cell_type": "markdown",
      "source": [
        "### The Inline for loop\n"
      ],
      "metadata": {
        "id": "5XhsnXrAZlN3"
      }
    },
    {
      "cell_type": "code",
      "source": [
        "[print(i) for i in x]"
      ],
      "metadata": {
        "colab": {
          "base_uri": "https://localhost:8080/"
        },
        "id": "irpHkxwQazrM",
        "outputId": "5f5452a6-5e62-47ae-85e9-b012c285e800"
      },
      "execution_count": 4,
      "outputs": [
        {
          "output_type": "stream",
          "name": "stdout",
          "text": [
            "-0.639727127231838\n",
            "1.4259535301950788\n",
            "-1.4574544286687063\n",
            "1.2518356059940972\n",
            "1.0125188980885875\n",
            "1.1229451416593983\n",
            "0.4682506665836426\n",
            "-0.06735711001593649\n",
            "-0.5220588987519035\n",
            "1.8062909501947257\n",
            "-0.0587723176606503\n",
            "-0.2817113805017886\n",
            "0.21501800706081947\n",
            "0.12936146087686054\n",
            "0.6387991182047634\n",
            "0.42068462961742237\n",
            "0.2814821432318555\n",
            "0.07542645688527028\n",
            "1.0005303085405635\n",
            "-2.3459107742126055\n",
            "0.546596537831809\n",
            "0.16801511768806818\n",
            "2.237582340162346\n",
            "0.19429993751046246\n",
            "-1.1315007381057842\n"
          ]
        },
        {
          "output_type": "execute_result",
          "data": {
            "text/plain": [
              "[None,\n",
              " None,\n",
              " None,\n",
              " None,\n",
              " None,\n",
              " None,\n",
              " None,\n",
              " None,\n",
              " None,\n",
              " None,\n",
              " None,\n",
              " None,\n",
              " None,\n",
              " None,\n",
              " None,\n",
              " None,\n",
              " None,\n",
              " None,\n",
              " None,\n",
              " None,\n",
              " None,\n",
              " None,\n",
              " None,\n",
              " None,\n",
              " None]"
            ]
          },
          "metadata": {},
          "execution_count": 4
        }
      ]
    },
    {
      "cell_type": "markdown",
      "source": [
        "Note that the print statement was returned, as well as the array of None--this illustrates the return nature of the brackets\n",
        "\n",
        "Define some things to use this:"
      ],
      "metadata": {
        "id": "KsvtAqCSbGa4"
      }
    },
    {
      "cell_type": "code",
      "source": [
        "import math\n",
        "'''\n",
        "mean(x : list)\n",
        "returns the mean of a list\n",
        "'''\n",
        "def mean(x : list) -> float:\n",
        "  return (sum(x)/len(x))\n",
        "\n",
        "'''\n",
        "std(x : list)\n",
        "returns the standard deviation of the list\n",
        "'''\n",
        "def std(x : list) -> float:\n",
        "  m = mean(x)\n",
        "  x = [(i - m) ** 2 for i in x]\n",
        "  m = mean(x)\n",
        "  m = math.sqrt(m)\n",
        "  return(m)\n",
        "\n",
        "'''\n",
        "normal(x : list)\n",
        "returns the normal distribution of the list\n",
        "'''\n",
        "def normal(x : list) -> list:\n",
        "  mu = mean(x)\n",
        "  sigma = std(x)\n",
        "  return([(i - mu) / sigma for i in x])\n",
        "\n",
        "'''\n",
        "normallambda(x : list)\n",
        "returns the normal distribution of the list using a\n",
        "lambda\n",
        "'''\n",
        "def normallambda(x : list):\n",
        "  mu = mean(x)\n",
        "  sigma = std(x)\n",
        "  ex  = lambda x: x - mu / sigma\n",
        "  return([ ex(y) for y in x])\n"
      ],
      "metadata": {
        "id": "YKeXUrN8bCBL"
      },
      "execution_count": 19,
      "outputs": []
    },
    {
      "cell_type": "code",
      "source": [
        "print(mean(x), std(x))\n",
        "xn = normal(x)\n",
        "xnl = normallambda(x)"
      ],
      "metadata": {
        "colab": {
          "base_uri": "https://localhost:8080/"
        },
        "id": "qorAkUUSrK5Q",
        "outputId": "285800b6-51da-412f-a569-c6f7a2eed0f3"
      },
      "execution_count": 20,
      "outputs": [
        {
          "output_type": "stream",
          "name": "stdout",
          "text": [
            "0.25964392300706224 0.9892549606226714\n"
          ]
        }
      ]
    },
    {
      "cell_type": "markdown",
      "source": [
        "Visualize the results"
      ],
      "metadata": {
        "id": "tg19JFofsITf"
      }
    },
    {
      "cell_type": "code",
      "source": [
        "import matplotlib.pyplot as plt\n",
        "import numpy as np\n",
        "\n",
        "X = np.arange(25)\n",
        "plt.scatter(X, x)\n",
        "plt.plot(X, xn)\n",
        "plt.plot(X, xnl, color='r')"
      ],
      "metadata": {
        "colab": {
          "base_uri": "https://localhost:8080/",
          "height": 283
        },
        "id": "nElpa8NGsMX4",
        "outputId": "f9abbe31-c148-4eec-c6c5-248cac4236be"
      },
      "execution_count": 22,
      "outputs": [
        {
          "output_type": "execute_result",
          "data": {
            "text/plain": [
              "[<matplotlib.lines.Line2D at 0x7f46b58dde50>]"
            ]
          },
          "metadata": {},
          "execution_count": 22
        },
        {
          "output_type": "display_data",
          "data": {
            "image/png": "[encoded data removed]",
            "text/plain": [
              "<Figure size 432x288 with 1 Axes>"
            ]
          },
          "metadata": {
            "needs_background": "light"
          }
        }
      ]
    }
  ]
}