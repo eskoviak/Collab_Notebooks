{
  "nbformat": 4,
  "nbformat_minor": 0,
  "metadata": {
    "colab": {
      "name": "set_phun.ipynb",
      "provenance": [],
      "authorship_tag": "ABX9TyPwMCdp+H/lSGQjaVL0k3fP",
      "include_colab_link": true
    },
    "kernelspec": {
      "name": "python3",
      "display_name": "Python 3"
    },
    "language_info": {
      "name": "python"
    }
  },
  "cells": [
    {
      "cell_type": "markdown",
      "metadata": {
        "id": "view-in-github",
        "colab_type": "text"
      },
      "source": [
        "<a href=\"https://colab.research.google.com/github/eskoviak/Collab_Notebooks/blob/main/set_phun.ipynb\" target=\"_parent\"><img src=\"https://colab.research.google.com/assets/colab-badge.svg\" alt=\"Open In Colab\"/></a>"
      ]
    },
    {
      "cell_type": "markdown",
      "source": [
        "set comprehension\n"
      ],
      "metadata": {
        "id": "LGz01PI0BZbj"
      }
    },
    {
      "cell_type": "code",
      "execution_count": 6,
      "metadata": {
        "colab": {
          "base_uri": "https://localhost:8080/"
        },
        "id": "QSl74-DBhhCq",
        "outputId": "b28bf45f-c034-431b-883c-8e4310f5cb00"
      },
      "outputs": [
        {
          "output_type": "stream",
          "name": "stdout",
          "text": [
            "The slowest run took 6.33 times longer than the fastest. This could mean that an intermediate result is being cached.\n",
            "1000000 loops, best of 5: 806 ns per loop\n"
          ]
        }
      ],
      "source": [
        "%%timeit\n",
        "myset = {'a','b','r','a','c','a','d','a','b','r','a'}\n",
        "{ c for c in myset if c not in 'abc'}"
      ]
    },
    {
      "cell_type": "markdown",
      "source": [
        "List compreshension\n"
      ],
      "metadata": {
        "id": "bfbmdDkul1SE"
      }
    },
    {
      "cell_type": "code",
      "source": [
        "%%timeit\n",
        "mylist = ['a','b','r','a','c','a','d','a','b','r','a']\n",
        "{ d for d in mylist if d not in 'abc'}"
      ],
      "metadata": {
        "colab": {
          "base_uri": "https://localhost:8080/"
        },
        "id": "z5AiarQdd7zI",
        "outputId": "e956e159-51fe-41b9-fe24-ec61fba306fe"
      },
      "execution_count": 5,
      "outputs": [
        {
          "output_type": "stream",
          "name": "stdout",
          "text": [
            "The slowest run took 5.24 times longer than the fastest. This could mean that an intermediate result is being cached.\n",
            "1000000 loops, best of 5: 896 ns per loop\n"
          ]
        }
      ]
    },
    {
      "cell_type": "code",
      "source": [
        ""
      ],
      "metadata": {
        "id": "dYIkBVt5l37A"
      },
      "execution_count": null,
      "outputs": []
    }
  ]
}