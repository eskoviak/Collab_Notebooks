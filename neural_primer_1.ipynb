{
  "nbformat": 4,
  "nbformat_minor": 0,
  "metadata": {
    "colab": {
      "name": "neural_primer_1.ipynb",
      "provenance": [],
      "authorship_tag": "ABX9TyNKRoXlhMbuE2S3aEnN5eFQ",
      "include_colab_link": true
    },
    "kernelspec": {
      "name": "python3",
      "display_name": "Python 3"
    },
    "language_info": {
      "name": "python"
    }
  },
  "cells": [
    {
      "cell_type": "markdown",
      "metadata": {
        "id": "view-in-github",
        "colab_type": "text"
      },
      "source": [
        "<a href=\"https://colab.research.google.com/github/eskoviak/Collab_Notebooks/blob/main/neural_primer_1.ipynb\" target=\"_parent\"><img src=\"https://colab.research.google.com/assets/colab-badge.svg\" alt=\"Open In Colab\"/></a>"
      ]
    },
    {
      "cell_type": "markdown",
      "source": [
        "From article by Mauro Di Pietro *Deep Learning with Python: Neural Networks (complete tutorial)* in Toward Data Science"
      ],
      "metadata": {
        "id": "eGjU5_HCLyMC"
      }
    },
    {
      "cell_type": "code",
      "source": [
        "!pip install shap"
      ],
      "metadata": {
        "colab": {
          "base_uri": "https://localhost:8080/"
        },
        "id": "MXhLx8AIIjhs",
        "outputId": "10265e53-98ee-47aa-9b6b-62b15fae60ad"
      },
      "execution_count": 3,
      "outputs": [
        {
          "output_type": "stream",
          "name": "stdout",
          "text": [
            "Collecting shap\n",
            "  Downloading shap-0.40.0-cp37-cp37m-manylinux2010_x86_64.whl (564 kB)\n",
            "\u001b[?25l\r\u001b[K     |▋                               | 10 kB 23.3 MB/s eta 0:00:01\r\u001b[K     |█▏                              | 20 kB 32.0 MB/s eta 0:00:01\r\u001b[K     |█▊                              | 30 kB 39.6 MB/s eta 0:00:01\r\u001b[K     |██▎                             | 40 kB 28.9 MB/s eta 0:00:01\r\u001b[K     |███                             | 51 kB 18.5 MB/s eta 0:00:01\r\u001b[K     |███▌                            | 61 kB 12.7 MB/s eta 0:00:01\r\u001b[K     |████                            | 71 kB 12.5 MB/s eta 0:00:01\r\u001b[K     |████▋                           | 81 kB 13.8 MB/s eta 0:00:01\r\u001b[K     |█████▏                          | 92 kB 13.3 MB/s eta 0:00:01\r\u001b[K     |█████▉                          | 102 kB 14.2 MB/s eta 0:00:01\r\u001b[K     |██████▍                         | 112 kB 14.2 MB/s eta 0:00:01\r\u001b[K     |███████                         | 122 kB 14.2 MB/s eta 0:00:01\r\u001b[K     |███████▌                        | 133 kB 14.2 MB/s eta 0:00:01\r\u001b[K     |████████▏                       | 143 kB 14.2 MB/s eta 0:00:01\r\u001b[K     |████████▊                       | 153 kB 14.2 MB/s eta 0:00:01\r\u001b[K     |█████████▎                      | 163 kB 14.2 MB/s eta 0:00:01\r\u001b[K     |█████████▉                      | 174 kB 14.2 MB/s eta 0:00:01\r\u001b[K     |██████████▍                     | 184 kB 14.2 MB/s eta 0:00:01\r\u001b[K     |███████████                     | 194 kB 14.2 MB/s eta 0:00:01\r\u001b[K     |███████████▋                    | 204 kB 14.2 MB/s eta 0:00:01\r\u001b[K     |████████████▏                   | 215 kB 14.2 MB/s eta 0:00:01\r\u001b[K     |████████████▊                   | 225 kB 14.2 MB/s eta 0:00:01\r\u001b[K     |█████████████▍                  | 235 kB 14.2 MB/s eta 0:00:01\r\u001b[K     |██████████████                  | 245 kB 14.2 MB/s eta 0:00:01\r\u001b[K     |██████████████▌                 | 256 kB 14.2 MB/s eta 0:00:01\r\u001b[K     |███████████████                 | 266 kB 14.2 MB/s eta 0:00:01\r\u001b[K     |███████████████▋                | 276 kB 14.2 MB/s eta 0:00:01\r\u001b[K     |████████████████▎               | 286 kB 14.2 MB/s eta 0:00:01\r\u001b[K     |████████████████▉               | 296 kB 14.2 MB/s eta 0:00:01\r\u001b[K     |█████████████████▍              | 307 kB 14.2 MB/s eta 0:00:01\r\u001b[K     |██████████████████              | 317 kB 14.2 MB/s eta 0:00:01\r\u001b[K     |██████████████████▋             | 327 kB 14.2 MB/s eta 0:00:01\r\u001b[K     |███████████████████▏            | 337 kB 14.2 MB/s eta 0:00:01\r\u001b[K     |███████████████████▊            | 348 kB 14.2 MB/s eta 0:00:01\r\u001b[K     |████████████████████▎           | 358 kB 14.2 MB/s eta 0:00:01\r\u001b[K     |████████████████████▉           | 368 kB 14.2 MB/s eta 0:00:01\r\u001b[K     |█████████████████████▌          | 378 kB 14.2 MB/s eta 0:00:01\r\u001b[K     |██████████████████████          | 389 kB 14.2 MB/s eta 0:00:01\r\u001b[K     |██████████████████████▋         | 399 kB 14.2 MB/s eta 0:00:01\r\u001b[K     |███████████████████████▏        | 409 kB 14.2 MB/s eta 0:00:01\r\u001b[K     |███████████████████████▉        | 419 kB 14.2 MB/s eta 0:00:01\r\u001b[K     |████████████████████████▍       | 430 kB 14.2 MB/s eta 0:00:01\r\u001b[K     |█████████████████████████       | 440 kB 14.2 MB/s eta 0:00:01\r\u001b[K     |█████████████████████████▌      | 450 kB 14.2 MB/s eta 0:00:01\r\u001b[K     |██████████████████████████      | 460 kB 14.2 MB/s eta 0:00:01\r\u001b[K     |██████████████████████████▊     | 471 kB 14.2 MB/s eta 0:00:01\r\u001b[K     |███████████████████████████▎    | 481 kB 14.2 MB/s eta 0:00:01\r\u001b[K     |███████████████████████████▉    | 491 kB 14.2 MB/s eta 0:00:01\r\u001b[K     |████████████████████████████▍   | 501 kB 14.2 MB/s eta 0:00:01\r\u001b[K     |█████████████████████████████   | 512 kB 14.2 MB/s eta 0:00:01\r\u001b[K     |█████████████████████████████▋  | 522 kB 14.2 MB/s eta 0:00:01\r\u001b[K     |██████████████████████████████▏ | 532 kB 14.2 MB/s eta 0:00:01\r\u001b[K     |██████████████████████████████▊ | 542 kB 14.2 MB/s eta 0:00:01\r\u001b[K     |███████████████████████████████▎| 552 kB 14.2 MB/s eta 0:00:01\r\u001b[K     |████████████████████████████████| 563 kB 14.2 MB/s eta 0:00:01\r\u001b[K     |████████████████████████████████| 564 kB 14.2 MB/s \n",
            "\u001b[?25hRequirement already satisfied: packaging>20.9 in /usr/local/lib/python3.7/dist-packages (from shap) (21.3)\n",
            "Requirement already satisfied: scikit-learn in /usr/local/lib/python3.7/dist-packages (from shap) (1.0.1)\n",
            "Requirement already satisfied: scipy in /usr/local/lib/python3.7/dist-packages (from shap) (1.4.1)\n",
            "Requirement already satisfied: tqdm>4.25.0 in /usr/local/lib/python3.7/dist-packages (from shap) (4.62.3)\n",
            "Requirement already satisfied: pandas in /usr/local/lib/python3.7/dist-packages (from shap) (1.1.5)\n",
            "Requirement already satisfied: cloudpickle in /usr/local/lib/python3.7/dist-packages (from shap) (1.3.0)\n",
            "Requirement already satisfied: numpy in /usr/local/lib/python3.7/dist-packages (from shap) (1.19.5)\n",
            "Requirement already satisfied: numba in /usr/local/lib/python3.7/dist-packages (from shap) (0.51.2)\n",
            "Collecting slicer==0.0.7\n",
            "  Downloading slicer-0.0.7-py3-none-any.whl (14 kB)\n",
            "Requirement already satisfied: pyparsing!=3.0.5,>=2.0.2 in /usr/local/lib/python3.7/dist-packages (from packaging>20.9->shap) (3.0.6)\n",
            "Requirement already satisfied: llvmlite<0.35,>=0.34.0.dev0 in /usr/local/lib/python3.7/dist-packages (from numba->shap) (0.34.0)\n",
            "Requirement already satisfied: setuptools in /usr/local/lib/python3.7/dist-packages (from numba->shap) (57.4.0)\n",
            "Requirement already satisfied: pytz>=2017.2 in /usr/local/lib/python3.7/dist-packages (from pandas->shap) (2018.9)\n",
            "Requirement already satisfied: python-dateutil>=2.7.3 in /usr/local/lib/python3.7/dist-packages (from pandas->shap) (2.8.2)\n",
            "Requirement already satisfied: six>=1.5 in /usr/local/lib/python3.7/dist-packages (from python-dateutil>=2.7.3->pandas->shap) (1.15.0)\n",
            "Requirement already satisfied: joblib>=0.11 in /usr/local/lib/python3.7/dist-packages (from scikit-learn->shap) (1.1.0)\n",
            "Requirement already satisfied: threadpoolctl>=2.0.0 in /usr/local/lib/python3.7/dist-packages (from scikit-learn->shap) (3.0.0)\n",
            "Installing collected packages: slicer, shap\n",
            "Successfully installed shap-0.40.0 slicer-0.0.7\n"
          ]
        }
      ]
    },
    {
      "cell_type": "code",
      "execution_count": 4,
      "metadata": {
        "id": "UqaqKF4tIKQ9"
      },
      "outputs": [],
      "source": [
        "from tensorflow.keras import models, layers, utils, backend as K\n",
        "import matplotlib.pyplot as plt\n",
        "import shap\n"
      ]
    },
    {
      "cell_type": "code",
      "source": [
        "model = models.Sequential(name='Perception', layers=[\n",
        "    layers.Dense(\n",
        "        name=\"dense\",\n",
        "        input_dim=3,\n",
        "        units=1,\n",
        "        activation='linear'\n",
        "  )\n",
        "])\n",
        "model.summary()"
      ],
      "metadata": {
        "colab": {
          "base_uri": "https://localhost:8080/"
        },
        "id": "zwI21hZSLESQ",
        "outputId": "ac01bb61-8af3-416b-8423-dd8f40ac6e65"
      },
      "execution_count": 5,
      "outputs": [
        {
          "output_type": "stream",
          "name": "stdout",
          "text": [
            "Model: \"Perception\"\n",
            "_________________________________________________________________\n",
            " Layer (type)                Output Shape              Param #   \n",
            "=================================================================\n",
            " dense (Dense)               (None, 1)                 4         \n",
            "                                                                 \n",
            "=================================================================\n",
            "Total params: 4\n",
            "Trainable params: 4\n",
            "Non-trainable params: 0\n",
            "_________________________________________________________________\n"
          ]
        }
      ]
    },
    {
      "cell_type": "markdown",
      "source": [
        "The above is basic, and includes a simple linear activation.  Lets define a custom activation using tensorlflow\n"
      ],
      "metadata": {
        "id": "evkcXY5PMlhP"
      }
    },
    {
      "cell_type": "code",
      "source": [
        "import tensorflow as tf\n",
        "\n",
        "def binary_step_activation(x):\n",
        "  ## return 1 if x>0 else 0\n",
        "  return K.switch(x>0, tf.math.divide(x,x), tf.math.multiply(x,0))\n",
        "\n",
        "model = models.Sequential(name='Perception', layers=[\n",
        "    layers.Dense(\n",
        "        name=\"dense\",\n",
        "        input_dim=3,\n",
        "        units=1,\n",
        "        activation=binary_step_activation\n",
        "  )\n",
        "])\n",
        "model.summary()"
      ],
      "metadata": {
        "colab": {
          "base_uri": "https://localhost:8080/"
        },
        "id": "egnUASloMQ77",
        "outputId": "9f049a1f-a2eb-479a-e231-ea1b21845d56"
      },
      "execution_count": 6,
      "outputs": [
        {
          "output_type": "stream",
          "name": "stdout",
          "text": [
            "Model: \"Perception\"\n",
            "_________________________________________________________________\n",
            " Layer (type)                Output Shape              Param #   \n",
            "=================================================================\n",
            " dense (Dense)               (None, None)              4         \n",
            "                                                                 \n",
            "=================================================================\n",
            "Total params: 4\n",
            "Trainable params: 4\n",
            "Non-trainable params: 0\n",
            "_________________________________________________________________\n"
          ]
        }
      ]
    },
    {
      "cell_type": "code",
      "source": [
        "n_features = 10\n",
        "\n",
        "model = models.Sequential(name=\"DeepNN\", layers=[\n",
        "  layers.Dense(name=\"h1\",\n",
        "               input_dim=n_features,\n",
        "               units=int(round((n_features+1)/2))),\n",
        "  layers.Dropout(name=\"drop1\",\n",
        "                 rate=0.2),\n",
        "  layers.Dense(name=\"h2\",\n",
        "               units=int(round((n_features+1)/4)),\n",
        "               activation='relu'),\n",
        "  layers.Dropout(name=\"drop2\", rate=0.2),\n",
        "  layers.Dense(name=\"output\",\n",
        "               units=1,\n",
        "               activation='sigmoid')\n",
        "])\n",
        "\n",
        "model.summary()"
      ],
      "metadata": {
        "colab": {
          "base_uri": "https://localhost:8080/"
        },
        "id": "DMvIWaMuSGMb",
        "outputId": "4aff60f0-ba3f-4c2c-c53e-7e8e1c24add8"
      },
      "execution_count": 7,
      "outputs": [
        {
          "output_type": "stream",
          "name": "stdout",
          "text": [
            "Model: \"DeepNN\"\n",
            "_________________________________________________________________\n",
            " Layer (type)                Output Shape              Param #   \n",
            "=================================================================\n",
            " h1 (Dense)                  (None, 6)                 66        \n",
            "                                                                 \n",
            " drop1 (Dropout)             (None, 6)                 0         \n",
            "                                                                 \n",
            " h2 (Dense)                  (None, 3)                 21        \n",
            "                                                                 \n",
            " drop2 (Dropout)             (None, 3)                 0         \n",
            "                                                                 \n",
            " output (Dense)              (None, 1)                 4         \n",
            "                                                                 \n",
            "=================================================================\n",
            "Total params: 91\n",
            "Trainable params: 91\n",
            "Non-trainable params: 0\n",
            "_________________________________________________________________\n"
          ]
        }
      ]
    }
  ]
}