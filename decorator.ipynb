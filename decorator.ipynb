{
  "nbformat": 4,
  "nbformat_minor": 0,
  "metadata": {
    "colab": {
      "name": "decorator.ipynb",
      "provenance": [],
      "authorship_tag": "ABX9TyNu4ZW4WEU319JVWi+fBqRU",
      "include_colab_link": true
    },
    "kernelspec": {
      "name": "python3",
      "display_name": "Python 3"
    },
    "language_info": {
      "name": "python"
    }
  },
  "cells": [
    {
      "cell_type": "markdown",
      "metadata": {
        "id": "view-in-github",
        "colab_type": "text"
      },
      "source": [
        "<a href=\"https://colab.research.google.com/github/eskoviak/Collab_Notebooks/blob/main/decorator.ipynb\" target=\"_parent\"><img src=\"https://colab.research.google.com/assets/colab-badge.svg\" alt=\"Open In Colab\"/></a>"
      ]
    },
    {
      "cell_type": "code",
      "execution_count": 1,
      "metadata": {
        "id": "slwZITZDp-NU"
      },
      "outputs": [],
      "source": [
        "def measure_time(func):\n",
        "    def wrapper(*args, **kwargs):\n",
        "        from time import time\n",
        "        start = time()\n",
        "        result = func(*args, **kwargs)\n",
        "        print(f'Elapsed time is {time() - start} ms')\n",
        "        return result\n",
        "    return wrapper\n",
        "\n",
        "    "
      ]
    },
    {
      "cell_type": "code",
      "source": [
        "@measure_time\n",
        "def add(x, y):\n",
        "    return x + y"
      ],
      "metadata": {
        "id": "dLWUsR48qTaQ"
      },
      "execution_count": 2,
      "outputs": []
    },
    {
      "cell_type": "code",
      "source": [
        "add(7.5,5.6)"
      ],
      "metadata": {
        "colab": {
          "base_uri": "https://localhost:8080/"
        },
        "id": "mRHfBTLoqaLu",
        "outputId": "87b435ce-fc79-4e9c-8f29-d9c011e051f1"
      },
      "execution_count": 3,
      "outputs": [
        {
          "output_type": "stream",
          "name": "stdout",
          "text": [
            "Elapsed time is 1.9073486328125e-06 ms\n"
          ]
        },
        {
          "output_type": "execute_result",
          "data": {
            "text/plain": [
              "13.1"
            ]
          },
          "metadata": {},
          "execution_count": 3
        }
      ]
    }
  ]
}