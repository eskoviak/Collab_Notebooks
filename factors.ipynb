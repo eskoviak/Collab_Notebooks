{
  "cells": [
    {
      "cell_type": "markdown",
      "metadata": {
        "id": "view-in-github",
        "colab_type": "text"
      },
      "source": [
        "<a href=\"https://colab.research.google.com/github/eskoviak/Collab_Notebooks/blob/main/factors.ipynb\" target=\"_parent\"><img src=\"https://colab.research.google.com/assets/colab-badge.svg\" alt=\"Open In Colab\"/></a>"
      ]
    },
    {
      "cell_type": "code",
      "execution_count": null,
      "metadata": {
        "id": "dQorcfK7axuY",
        "outputId": "7255294d-705f-4ca7-feef-5dbdeafb0aa4"
      },
      "outputs": [
        {
          "data": {
            "text/plain": [
              "[<matplotlib.lines.Line2D at 0x1221a9b10>]"
            ]
          },
          "execution_count": 1,
          "metadata": {},
          "output_type": "execute_result"
        },
        {
          "data": {
            "image/png": "[encoded data removed]",
            "text/plain": [
              "<Figure size 432x288 with 1 Axes>"
            ]
          },
          "metadata": {
            "needs_background": "light"
          },
          "output_type": "display_data"
        }
      ],
      "source": [
        "import numpy as np\n",
        "import pandas as pd\n",
        "import matplotlib.pyplot as plt\n",
        "from sklearn import linear_model\n",
        "\n",
        "factors = pd.read_csv('factors.csv')\n",
        "\n",
        "regr = linear_model.LinearRegression()\n",
        "X = np.array(factors['reps']).reshape(-1,1)\n",
        "regr.fit(X, factors['factor'])\n",
        "\n",
        "#plt.scatter(X,factors['factor'])\n",
        "#plt.plot(X, regr.predict(X))\n",
        "\n"
      ]
    },
    {
      "cell_type": "code",
      "execution_count": null,
      "metadata": {
        "id": "j9heUapjaxuf"
      },
      "outputs": [],
      "source": [
        "x_prime = np.array([4,4,4,4]).mean()\n",
        "weight_mean = np.array([135,135,140,145]).mean()\n",
        "ORM= weight_mean/regr.predict([[x_prime]])"
      ]
    },
    {
      "cell_type": "code",
      "execution_count": null,
      "metadata": {
        "id": "ceCVU_daaxug"
      },
      "outputs": [],
      "source": [
        "\n",
        "def tokenize(inStr):\n",
        "    if inStr.find('+') > -1:\n",
        "        return inStr.split('+')\n",
        "    else:\n",
        "        return [inStr]\n",
        "\n",
        "def parseOperators(inStr):\n",
        "    outList = []\n",
        "    mode = 'tile'\n",
        "    #inStr = inStr[0]\n",
        "\n",
        "    if inStr.count('r') == 1:\n",
        "        mode = 'repeat'\n",
        "        inStr = inStr.replace('r','')\n",
        "\n",
        "    inStr.replace('*','x')\n",
        "    \n",
        "    if inStr.count('x') == 0:\n",
        "        # basic Set\n",
        "        mult = 1\n",
        "        set=inStr\n",
        "    else:\n",
        "        (mult, set) = inStr.split('x')\n",
        "\n",
        "    # need to check to see if set has an operator embedded\n",
        "    if set.count('-->') == 1:\n",
        "        start, stop = set.split('-->')\n",
        "        start = int(re.sub('\\(','',start))\n",
        "        stop = int(re.sub('\\)','',stop))\n",
        "        if stop < start:\n",
        "            step = -1\n",
        "            stop -= 1\n",
        "        else:\n",
        "            step = 1\n",
        "            stop += 1\n",
        "        set = np.arange(start, stop, step)\n",
        "    else:\n",
        "        # otherwise, evaluate set\n",
        "        set = list(eval(set))\n",
        "\n",
        "    if mode == 'tile':\n",
        "        outList= np.tile(set, int(mult))\n",
        "    elif mode == 'repeat':\n",
        "        outList = np.repeat(set, int(mult))\n",
        "\n",
        "    return outList\n"
      ]
    },
    {
      "cell_type": "code",
      "execution_count": null,
      "metadata": {
        "id": "L7TztNuCaxui"
      },
      "outputs": [],
      "source": [
        "for cadence in ['4x(5,)']:\n",
        "    list_cadence = []\n",
        "    for token in tokenize(cadence):\n",
        "        #print(token)\n",
        "        #print(parseOperators(token))\n",
        "        list_cadence.extend(parseOperators(token))\n",
        "    #tokens = tokenize(cadence)\n",
        "    #print(tokens)\n",
        "    #print(parseOperators(tokens))\n",
        "    #print(f\"In: {cadence}\\t Out: {list_cadence}\")"
      ]
    },
    {
      "cell_type": "code",
      "execution_count": null,
      "metadata": {
        "id": "LiuPYii1axuj"
      },
      "outputs": [],
      "source": [
        "for weights in ['2x(135,)+(140,)+(145,)']:\n",
        "    list_weights = []\n",
        "    for token in tokenize(weights):\n",
        "        list_weights.extend(parseOperators(token))\n",
        "    "
      ]
    },
    {
      "cell_type": "code",
      "execution_count": null,
      "metadata": {
        "id": "uoTuCpRJaxuk"
      },
      "outputs": [],
      "source": [
        "one_rep_max = np.array(list_weights).mean()/regr.predict(np.array(list_cadence).mean().reshape(1,-1))"
      ]
    }
  ],
  "metadata": {
    "interpreter": {
      "hash": "aee8b7b246df8f9039afb4144a1f6fd8d2ca17a180786b69acc140d282b71a49"
    },
    "kernelspec": {
      "display_name": "Python 3",
      "language": "python",
      "name": "python3"
    },
    "language_info": {
      "codemirror_mode": {
        "name": "ipython",
        "version": 3
      },
      "file_extension": ".py",
      "mimetype": "text/x-python",
      "name": "python",
      "nbconvert_exporter": "python",
      "pygments_lexer": "ipython3",
      "version": "3.10.0"
    },
    "orig_nbformat": 4,
    "colab": {
      "name": "factors.ipynb",
      "provenance": [],
      "include_colab_link": true
    }
  },
  "nbformat": 4,
  "nbformat_minor": 0
}