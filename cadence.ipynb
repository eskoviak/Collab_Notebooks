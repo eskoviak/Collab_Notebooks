{
  "nbformat": 4,
  "nbformat_minor": 5,
  "metadata": {
    "interpreter": {
      "hash": "4813e4d4eea24e7bff446c076ec41dc5d844d58b0d6a1d3905ebf720c5ec0f77"
    },
    "kernelspec": {
      "display_name": "Python 3.9.5 64-bit ('vpython-macos': venv)",
      "name": "python3"
    },
    "language_info": {
      "codemirror_mode": {
        "name": "ipython",
        "version": 3
      },
      "file_extension": ".py",
      "mimetype": "text/x-python",
      "name": "python",
      "nbconvert_exporter": "python",
      "pygments_lexer": "ipython3",
      "version": "3.10.0"
    },
    "colab": {
      "name": "cadence.ipynb",
      "provenance": [],
      "include_colab_link": true
    }
  },
  "cells": [
    {
      "cell_type": "markdown",
      "metadata": {
        "id": "view-in-github",
        "colab_type": "text"
      },
      "source": [
        "<a href=\"https://colab.research.google.com/github/eskoviak/Collab_Notebooks/blob/main/cadence.ipynb\" target=\"_parent\"><img src=\"https://colab.research.google.com/assets/colab-badge.svg\" alt=\"Open In Colab\"/></a>"
      ]
    },
    {
      "cell_type": "markdown",
      "metadata": {
        "id": "6HYkWQ5DWqdS"
      },
      "source": [
        "# Cadence Conversion\n",
        "\n",
        "## Input formats\n",
        "\n",
        "nx(<list>)+mx(<list>)+...\n",
        "\n",
        "where\n",
        "n,m are positive integers\n",
        "<lists> are one or more rep counts.\n",
        "    \n",
        "*Example*\n",
        "    \n",
        "1x(1,2,3) should become [1,2,3]"
      ],
      "id": "6HYkWQ5DWqdS"
    },
    {
      "cell_type": "markdown",
      "metadata": {
        "id": "jn3_T4hFWqdY"
      },
      "source": [
        "### Case 0:  Setup"
      ],
      "id": "jn3_T4hFWqdY"
    },
    {
      "cell_type": "code",
      "metadata": {
        "id": "e3nCEMLHWqdZ"
      },
      "source": [
        "import numpy as np\n",
        "import pandas as pd\n",
        "from os import path\n",
        "import re\n",
        "\n",
        "#dataSetPath = './Data Files/'"
      ],
      "id": "e3nCEMLHWqdZ",
      "execution_count": 1,
      "outputs": []
    },
    {
      "cell_type": "markdown",
      "metadata": {
        "id": "cNRb0iQEWqdc"
      },
      "source": [
        "## Define Functions"
      ],
      "id": "cNRb0iQEWqdc"
    },
    {
      "cell_type": "code",
      "metadata": {
        "id": "Wxr38VXfWqde"
      },
      "source": [
        "\n",
        "def tokenize(inStr):\n",
        "    if inStr.find('+') > -1:\n",
        "        return inStr.split('+')\n",
        "    else:\n",
        "        return [inStr]\n",
        "\n",
        "def parseOperators(inStr):\n",
        "    outList = []\n",
        "    mode = 'tile'\n",
        "    #inStr = inStr[0]\n",
        "\n",
        "    if inStr.count('r') == 1:\n",
        "        mode = 'repeat'\n",
        "        inStr = inStr.replace('r','')\n",
        "\n",
        "    inStr.replace('*','x')\n",
        "    \n",
        "    if inStr.count('x') == 0:\n",
        "        # basic Set\n",
        "        mult = 1\n",
        "        set=inStr\n",
        "    else:\n",
        "        (mult, set) = inStr.split('x')\n",
        "\n",
        "    # need to check to see if set has an operator embedded\n",
        "    if set.count('-->') == 1:\n",
        "        start, stop = set.split('-->')\n",
        "        start = int(re.sub('\\(','',start))\n",
        "        stop = int(re.sub('\\)','',stop))\n",
        "        if stop < start:\n",
        "            step = -1\n",
        "            stop -= 1\n",
        "        else:\n",
        "            step = 1\n",
        "            stop += 1\n",
        "        set = np.arange(start, stop, step)\n",
        "    else:\n",
        "        # otherwise, evaluate set\n",
        "        set = list(eval(set))\n",
        "\n",
        "    if mode == 'tile':\n",
        "        outList= np.tile(set, int(mult))\n",
        "    elif mode == 'repeat':\n",
        "        outList = np.repeat(set, int(mult))\n",
        "\n",
        "    return outList\n"
      ],
      "id": "Wxr38VXfWqde",
      "execution_count": 3,
      "outputs": []
    },
    {
      "cell_type": "markdown",
      "metadata": {
        "id": "kJgICZhTWqdg"
      },
      "source": [
        "### Case 1:  nx(<list>)"
      ],
      "id": "kJgICZhTWqdg"
    },
    {
      "cell_type": "code",
      "metadata": {
        "id": "v8kXWG5XWqdl"
      },
      "source": [
        "import re\n",
        "i = '(1,)'\n",
        "re.sub('\\(','',i)\n",
        "#i = i.replace('()','')\n",
        "#print(int('(1'))"
      ],
      "id": "v8kXWG5XWqdl",
      "execution_count": null,
      "outputs": []
    },
    {
      "cell_type": "code",
      "metadata": {
        "id": "SNty_f_UWqdl"
      },
      "source": [
        "i = '(1,2,3)'\n",
        "eval(i)\n",
        "list(eval(i))\n",
        "y = (1,2,4)\n",
        "list(y)"
      ],
      "id": "SNty_f_UWqdl",
      "execution_count": null,
      "outputs": []
    }
  ]
}