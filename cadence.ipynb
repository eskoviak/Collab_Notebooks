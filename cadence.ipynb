{
    "cells": [
        {
            "cell_type": "code",
            "execution_count": 53,
            "id": "tough-central",
            "metadata": {},
            "outputs": [
                {
                    "name": "stdout",
                    "output_type": "stream",
                    "text": "(0, Reps        1\nFactor    100\nName: 0, dtype: int64)\n"
                }
            ],
            "source": "# The code was removed by Watson Studio for sharing."
        },
        {
            "cell_type": "code",
            "execution_count": 2,
            "id": "alpha-tender",
            "metadata": {},
            "outputs": [],
            "source": "import numpy as np\nimport pandas as pd\nimport matplotlib.pyplot as plt\nfrom sklearn import linear_model\nfrom sklearn.preprocessing import PolynomialFeatures\nfrom os import path\nimport re\n\n#dataSetPath = './Data Files/'"
        },
        {
            "cell_type": "code",
            "execution_count": null,
            "id": "marine-israeli",
            "metadata": {},
            "outputs": [],
            "source": "def _get_factors(lifts):\n    return orm_factors_df.loc[orm_factors_df['Reps'] == reps]['Factor'].item()/100\n\n#print(next(orm_factors_df.iterrows()))"
        },
        {
            "cell_type": "markdown",
            "id": "subsequent-filling",
            "metadata": {},
            "source": "## Get the ONE REP MAX Curve\n\nDON'T RUN THIS IF USING THE FIELD FROM IBM "
        },
        {
            "cell_type": "code",
            "execution_count": 2,
            "id": "complicated-bidding",
            "metadata": {},
            "outputs": [
                {
                    "data": {
                        "text/plain": "[<matplotlib.lines.Line2D at 0x7f891a56eee0>]"
                    },
                    "execution_count": 2,
                    "metadata": {},
                    "output_type": "execute_result"
                },
                {
                    "data": {
                        "image/png": "[encoded data removed]",
                        "text/plain": "<Figure size 432x288 with 1 Axes>"
                    },
                    "metadata": {
                        "needs_background": "light"
                    },
                    "output_type": "display_data"
                }
            ],
            "source": "factors = pd.read_csv('Data Files/ORM Factors.csv')\n\n#Linear Fit\nregr = linear_model.LinearRegression()\nX = np.array(factors['Reps']).reshape(-1,1)\nregr.fit(X, factors['Factor'])\n\n\n#poly_reg = PolynomialFeatures(degree = 2)\n#X_poly = poly_reg.fit_transform([factors['Reps']])\n#print(X_poly)\n#regressor = linear_model.LinearRegression()\n#regressor.fit(X_poly, factors['Factor'])\n\n#print(regressor)\n\n#fact_pred = regressor.predict(poly_reg.transform(X_poly))\n#print(fact_pred)\n\n\nplt.scatter(X,factors['Factor'])\nplt.plot(X, regr.predict(X))"
        },
        {
            "cell_type": "markdown",
            "id": "narrative-rwanda",
            "metadata": {},
            "source": "Need to get the read part working\n"
        },
        {
            "cell_type": "code",
            "execution_count": 51,
            "id": "forbidden-mason",
            "metadata": {},
            "outputs": [
                {
                    "name": "stdout",
                    "output_type": "stream",
                    "text": "0.97\n"
                }
            ],
            "source": "#lifts_df = pd.read_csv('Data Files/lifts.csv')\n#print(_get_factor(2))"
        },
        {
            "cell_type": "markdown",
            "id": "choice-insulation",
            "metadata": {},
            "source": "For now:\n"
        },
        {
            "cell_type": "code",
            "execution_count": 47,
            "id": "minimal-suicide",
            "metadata": {},
            "outputs": [
                {
                    "data": {
                        "text/html": "<div>\n<style scoped>\n    .dataframe tbody tr th:only-of-type {\n        vertical-align: middle;\n    }\n\n    .dataframe tbody tr th {\n        vertical-align: top;\n    }\n\n    .dataframe thead th {\n        text-align: right;\n    }\n</style>\n<table border=\"1\" class=\"dataframe\">\n  <thead>\n    <tr style=\"text-align: right;\">\n      <th></th>\n      <th>lifts</th>\n      <th>weights</th>\n      <th>volume</th>\n      <th>ORM</th>\n    </tr>\n  </thead>\n  <tbody>\n    <tr>\n      <th>0</th>\n      <td>2</td>\n      <td>175</td>\n      <td>350</td>\n      <td>0.0</td>\n    </tr>\n    <tr>\n      <th>1</th>\n      <td>2</td>\n      <td>175</td>\n      <td>350</td>\n      <td>0.0</td>\n    </tr>\n    <tr>\n      <th>2</th>\n      <td>2</td>\n      <td>180</td>\n      <td>360</td>\n      <td>0.0</td>\n    </tr>\n    <tr>\n      <th>3</th>\n      <td>6</td>\n      <td>145</td>\n      <td>870</td>\n      <td>0.0</td>\n    </tr>\n    <tr>\n      <th>4</th>\n      <td>6</td>\n      <td>145</td>\n      <td>870</td>\n      <td>0.0</td>\n    </tr>\n  </tbody>\n</table>\n</div>",
                        "text/plain": "   lifts  weights  volume  ORM\n0      2      175     350  0.0\n1      2      175     350  0.0\n2      2      180     360  0.0\n3      6      145     870  0.0\n4      6      145     870  0.0"
                    },
                    "execution_count": 47,
                    "metadata": {},
                    "output_type": "execute_result"
                }
            ],
            "source": "lifts = np.array([2,2,2,6,6,6])\nweights = np.array([175,175,180,145,145,150])\nlift_df = pd.DataFrame({'lifts' : lifts, 'weights' : weights})\nlift_df = lift_df.assign(volume=lambda x: x.lifts * x.weights)\nlift_df.insert(3,'ORM',0.0)\n\nlift_df.head()\n\n#print(f\"Total Lifts: {lifts.sum()}\")\n#print(f\"Total Volume: {volumes.sum()}\")\n#print(f\"Mean reps: {round(lifts.mean(), 3)}\")\n#print(f\"Mean weigt: {round(weights.mean(), 1)}\")\n#print(f\"Max Lift: {weights.max()}\")\n#print(regr.predict(lifts.mean().reshape(1,-1)).sum()/100)\n#print(f\"One Rep max: {round(weights.mean()*100/regr.predict(lifts.mean().reshape(1,-1)).sum(), 1)}\")\n#print(f\"|{volumes.sum()}-{round(weights.mean()*100/regr.predict(lifts.mean().reshape(1,-1)).sum(), 1)}\")"
        },
        {
            "cell_type": "code",
            "execution_count": 22,
            "id": "individual-silence",
            "metadata": {},
            "outputs": [
                {
                    "name": "stdout",
                    "output_type": "stream",
                    "text": "Total Lifts: 25\nTotal Volume: 3875\nMean reps: 5.0\nMean weigth: 155.0\nOne Rep max: 176.584\n"
                }
            ],
            "source": "lifts = np.array([5,5,5,5,5])\nweights = np.array([155])\nvolumes = lifts*weights\n\nprint(f\"Total Lifts: {lifts.sum()}\")\nprint(f\"Total Volume: {volumes.sum()}\")\nprint(f\"Mean reps: {round(lifts.mean(), 3)}\")\nprint(f\"Mean weigth: {round(weights.mean(), 1)}\")\nprint(f\"One Rep max: {round(weights.mean()/regr.predict(lifts.mean().reshape(1,-1)).sum(), 3)}\")"
        },
        {
            "cell_type": "code",
            "execution_count": 52,
            "id": "elementary-electricity",
            "metadata": {},
            "outputs": [
                {
                    "name": "stdout",
                    "output_type": "stream",
                    "text": "      X\n11  300\n12  170\n13  288\n14  360\n15  319\n16  330\n17  520\n18  345\n19  399\n20  479          y\n11  305000\n12  270000\n13  360000\n14  370000\n15  379000\n16  405000\n17  407500\n18  450000\n19  450000\n20  485000\n[[170.        ]\n [171.17056856]\n [172.34113712]\n [173.51170569]\n [174.68227425]\n [175.85284281]\n [177.02341137]\n [178.19397993]\n [179.36454849]\n [180.53511706]\n [181.70568562]\n [182.87625418]\n [184.04682274]\n [185.2173913 ]\n [186.38795987]\n [187.55852843]\n [188.72909699]\n [189.89966555]\n [191.07023411]\n [192.24080268]\n [193.41137124]\n [194.5819398 ]\n [195.75250836]\n [196.92307692]\n [198.09364548]\n [199.26421405]\n [200.43478261]\n [201.60535117]\n [202.77591973]\n [203.94648829]\n [205.11705686]\n [206.28762542]\n [207.45819398]\n [208.62876254]\n [209.7993311 ]\n [210.96989967]\n [212.14046823]\n [213.31103679]\n [214.48160535]\n [215.65217391]\n [216.82274247]\n [217.99331104]\n [219.1638796 ]\n [220.33444816]\n [221.50501672]\n [222.67558528]\n [223.84615385]\n [225.01672241]\n [226.18729097]\n [227.35785953]\n [228.52842809]\n [229.69899666]\n [230.86956522]\n [232.04013378]\n [233.21070234]\n [234.3812709 ]\n [235.55183946]\n [236.72240803]\n [237.89297659]\n [239.06354515]\n [240.23411371]\n [241.40468227]\n [242.57525084]\n [243.7458194 ]\n [244.91638796]\n [246.08695652]\n [247.25752508]\n [248.42809365]\n [249.59866221]\n [250.76923077]\n [251.93979933]\n [253.11036789]\n [254.28093645]\n [255.45150502]\n [256.62207358]\n [257.79264214]\n [258.9632107 ]\n [260.13377926]\n [261.30434783]\n [262.47491639]\n [263.64548495]\n [264.81605351]\n [265.98662207]\n [267.15719064]\n [268.3277592 ]\n [269.49832776]\n [270.66889632]\n [271.83946488]\n [273.01003344]\n [274.18060201]\n [275.35117057]\n [276.52173913]\n [277.69230769]\n [278.86287625]\n [280.03344482]\n [281.20401338]\n [282.37458194]\n [283.5451505 ]\n [284.71571906]\n [285.88628763]\n [287.05685619]\n [288.22742475]\n [289.39799331]\n [290.56856187]\n [291.73913043]\n [292.909699  ]\n [294.08026756]\n [295.25083612]\n [296.42140468]\n [297.59197324]\n [298.76254181]\n [299.93311037]\n [301.10367893]\n [302.27424749]\n [303.44481605]\n [304.61538462]\n [305.78595318]\n [306.95652174]\n [308.1270903 ]\n [309.29765886]\n [310.46822742]\n [311.63879599]\n [312.80936455]\n [313.97993311]\n [315.15050167]\n [316.32107023]\n [317.4916388 ]\n [318.66220736]\n [319.83277592]\n [321.00334448]\n [322.17391304]\n [323.34448161]\n [324.51505017]\n [325.68561873]\n [326.85618729]\n [328.02675585]\n [329.19732441]\n [330.36789298]\n [331.53846154]\n [332.7090301 ]\n [333.87959866]\n [335.05016722]\n [336.22073579]\n [337.39130435]\n [338.56187291]\n [339.73244147]\n [340.90301003]\n [342.0735786 ]\n [343.24414716]\n [344.41471572]\n [345.58528428]\n [346.75585284]\n [347.9264214 ]\n [349.09698997]\n [350.26755853]\n [351.43812709]\n [352.60869565]\n [353.77926421]\n [354.94983278]\n [356.12040134]\n [357.2909699 ]\n [358.46153846]\n [359.63210702]\n [360.80267559]\n [361.97324415]\n [363.14381271]\n [364.31438127]\n [365.48494983]\n [366.65551839]\n [367.82608696]\n [368.99665552]\n [370.16722408]\n [371.33779264]\n [372.5083612 ]\n [373.67892977]\n [374.84949833]\n [376.02006689]\n [377.19063545]\n [378.36120401]\n [379.53177258]\n [380.70234114]\n [381.8729097 ]\n [383.04347826]\n [384.21404682]\n [385.38461538]\n [386.55518395]\n [387.72575251]\n [388.89632107]\n [390.06688963]\n [391.23745819]\n [392.40802676]\n [393.57859532]\n [394.74916388]\n [395.91973244]\n [397.090301  ]\n [398.26086957]\n [399.43143813]\n [400.60200669]\n [401.77257525]\n [402.94314381]\n [404.11371237]\n [405.28428094]\n [406.4548495 ]\n [407.62541806]\n [408.79598662]\n [409.96655518]\n [411.13712375]\n [412.30769231]\n [413.47826087]\n [414.64882943]\n [415.81939799]\n [416.98996656]\n [418.16053512]\n [419.33110368]\n [420.50167224]\n [421.6722408 ]\n [422.84280936]\n [424.01337793]\n [425.18394649]\n [426.35451505]\n [427.52508361]\n [428.69565217]\n [429.86622074]\n [431.0367893 ]\n [432.20735786]\n [433.37792642]\n [434.54849498]\n [435.71906355]\n [436.88963211]\n [438.06020067]\n [439.23076923]\n [440.40133779]\n [441.57190635]\n [442.74247492]\n [443.91304348]\n [445.08361204]\n [446.2541806 ]\n [447.42474916]\n [448.59531773]\n [449.76588629]\n [450.93645485]\n [452.10702341]\n [453.27759197]\n [454.44816054]\n [455.6187291 ]\n [456.78929766]\n [457.95986622]\n [459.13043478]\n [460.30100334]\n [461.47157191]\n [462.64214047]\n [463.81270903]\n [464.98327759]\n [466.15384615]\n [467.32441472]\n [468.49498328]\n [469.66555184]\n [470.8361204 ]\n [472.00668896]\n [473.17725753]\n [474.34782609]\n [475.51839465]\n [476.68896321]\n [477.85953177]\n [479.03010033]\n [480.2006689 ]\n [481.37123746]\n [482.54180602]\n [483.71237458]\n [484.88294314]\n [486.05351171]\n [487.22408027]\n [488.39464883]\n [489.56521739]\n [490.73578595]\n [491.90635452]\n [493.07692308]\n [494.24749164]\n [495.4180602 ]\n [496.58862876]\n [497.75919732]\n [498.92976589]\n [500.10033445]\n [501.27090301]\n [502.44147157]\n [503.61204013]\n [504.7826087 ]\n [505.95317726]\n [507.12374582]\n [508.29431438]\n [509.46488294]\n [510.63545151]\n [511.80602007]\n [512.97658863]\n [514.14715719]\n [515.31772575]\n [516.48829431]\n [517.65886288]\n [518.82943144]\n [520.        ]]\n"
                }
            ],
            "source": "xdic={'X': {11: 300, 12: 170, 13: 288, 14: 360, 15: 319, 16: 330, 17: 520, 18: 345, 19: 399, 20: 479}}\nydic={'y': {11: 305000, 12: 270000, 13: 360000, 14: 370000, 15: 379000, 16: 405000, 17: 407500, 18: 450000, 19: 450000, 20: 485000}}\nX=pd.DataFrame.from_dict(xdic)\ny=pd.DataFrame.from_dict(ydic)\nimport numpy as np\nX_seq = np.linspace(X.min(),X.max(),300).reshape(-1,1)\n\nprint(X, y)\nprint(X_seq)"
        },
        {
            "cell_type": "markdown",
            "id": "ongoing-cradle",
            "metadata": {},
            "source": "# An aside\nGiven a dataframe:\n\n1 1\n2 .97\n3 .94\n4 .90\n5 .87\n\nand an array\n[3,3,2,2,2]\n\nreturn \n[.94, .94, .97, .97, .97]"
        },
        {
            "cell_type": "code",
            "execution_count": 1,
            "id": "dangerous-stanley",
            "metadata": {},
            "outputs": [],
            "source": "import pandas as pd\nimport numpy as np\n"
        },
        {
            "cell_type": "code",
            "execution_count": 2,
            "id": "subject-omega",
            "metadata": {},
            "outputs": [
                {
                    "data": {
                        "text/html": "<div>\n<style scoped>\n    .dataframe tbody tr th:only-of-type {\n        vertical-align: middle;\n    }\n\n    .dataframe tbody tr th {\n        vertical-align: top;\n    }\n\n    .dataframe thead th {\n        text-align: right;\n    }\n</style>\n<table border=\"1\" class=\"dataframe\">\n  <thead>\n    <tr style=\"text-align: right;\">\n      <th></th>\n      <th>Reps</th>\n      <th>Factor</th>\n    </tr>\n  </thead>\n  <tbody>\n    <tr>\n      <th>0</th>\n      <td>1</td>\n      <td>1.00</td>\n    </tr>\n    <tr>\n      <th>1</th>\n      <td>2</td>\n      <td>0.97</td>\n    </tr>\n    <tr>\n      <th>2</th>\n      <td>3</td>\n      <td>0.94</td>\n    </tr>\n    <tr>\n      <th>3</th>\n      <td>4</td>\n      <td>0.90</td>\n    </tr>\n    <tr>\n      <th>4</th>\n      <td>5</td>\n      <td>0.87</td>\n    </tr>\n  </tbody>\n</table>\n</div>",
                        "text/plain": "   Reps  Factor\n0     1    1.00\n1     2    0.97\n2     3    0.94\n3     4    0.90\n4     5    0.87"
                    },
                    "execution_count": 2,
                    "metadata": {},
                    "output_type": "execute_result"
                }
            ],
            "source": "source_df=pd.DataFrame(data={'Reps': [1,2,3,4,5], 'Factor':[1.0, 0.97, 0.94, 0.90, 0.87]})\nsource_df.head()"
        },
        {
            "cell_type": "code",
            "execution_count": 3,
            "id": "laden-amateur",
            "metadata": {},
            "outputs": [
                {
                    "name": "stdout",
                    "output_type": "stream",
                    "text": "[3 3 2 2 2]\n"
                }
            ],
            "source": "input = np.array([3,3,2,2,2])\nprint(input)"
        },
        {
            "cell_type": "code",
            "execution_count": 6,
            "id": "received-clinic",
            "metadata": {},
            "outputs": [
                {
                    "name": "stdout",
                    "output_type": "stream",
                    "text": "[0 1 2 3 4]\nInt64Index([1, 2, 3, 4, 5], dtype='int64')\n"
                },
                {
                    "data": {
                        "text/html": "<div>\n<style scoped>\n    .dataframe tbody tr th:only-of-type {\n        vertical-align: middle;\n    }\n\n    .dataframe tbody tr th {\n        vertical-align: top;\n    }\n\n    .dataframe thead th {\n        text-align: right;\n    }\n</style>\n<table border=\"1\" class=\"dataframe\">\n  <thead>\n    <tr style=\"text-align: right;\">\n      <th></th>\n      <th>Reps</th>\n      <th>Factor</th>\n    </tr>\n  </thead>\n  <tbody>\n    <tr>\n      <th>1</th>\n      <td>2.0</td>\n      <td>0.97</td>\n    </tr>\n    <tr>\n      <th>2</th>\n      <td>3.0</td>\n      <td>0.94</td>\n    </tr>\n    <tr>\n      <th>3</th>\n      <td>4.0</td>\n      <td>0.90</td>\n    </tr>\n    <tr>\n      <th>4</th>\n      <td>5.0</td>\n      <td>0.87</td>\n    </tr>\n    <tr>\n      <th>5</th>\n      <td>NaN</td>\n      <td>NaN</td>\n    </tr>\n  </tbody>\n</table>\n</div>",
                        "text/plain": "   Reps  Factor\n1   2.0    0.97\n2   3.0    0.94\n3   4.0    0.90\n4   5.0    0.87\n5   NaN     NaN"
                    },
                    "execution_count": 6,
                    "metadata": {},
                    "output_type": "execute_result"
                }
            ],
            "source": "idx, cols = pd.factorize(source_df['Reps'])\nprint(idx,cols,sep='\\n')\n#source_df.reindex(cols, axis=1).to_numpy()[np.arange(len(source_df)), idx]\nsource_df.reindex(cols)"
        },
        {
            "cell_type": "code",
            "execution_count": null,
            "id": "ceramic-poker",
            "metadata": {},
            "outputs": [],
            "source": ""
        }
    ],
    "metadata": {
        "interpreter": {
            "hash": "4813e4d4eea24e7bff446c076ec41dc5d844d58b0d6a1d3905ebf720c5ec0f77"
        },
        "kernelspec": {
            "display_name": "Python 3.9",
            "language": "python",
            "name": "python3"
        },
        "language_info": {
            "codemirror_mode": {
                "name": "ipython",
                "version": 3
            },
            "file_extension": ".py",
            "mimetype": "text/x-python",
            "name": "python",
            "nbconvert_exporter": "python",
            "pygments_lexer": "ipython3",
            "version": "3.9.7"
        }
    },
    "nbformat": 4,
    "nbformat_minor": 5
}