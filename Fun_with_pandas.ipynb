{
  "nbformat": 4,
  "nbformat_minor": 0,
  "metadata": {
    "colab": {
      "name": "Fun_with_pandas.ipynb",
      "provenance": [],
      "toc_visible": true,
      "authorship_tag": "ABX9TyMcOCkFTDozgfTuXbSa2ak+",
      "include_colab_link": true
    },
    "kernelspec": {
      "name": "python3",
      "display_name": "Python 3"
    },
    "language_info": {
      "name": "python"
    }
  },
  "cells": [
    {
      "cell_type": "markdown",
      "metadata": {
        "id": "view-in-github",
        "colab_type": "text"
      },
      "source": [
        "<a href=\"https://colab.research.google.com/github/eskoviak/Collab_Notebooks/blob/main/Fun_with_pandas.ipynb\" target=\"_parent\"><img src=\"https://colab.research.google.com/assets/colab-badge.svg\" alt=\"Open In Colab\"/></a>"
      ]
    },
    {
      "cell_type": "code",
      "metadata": {
        "id": "e153H_NYIzAo"
      },
      "source": [
        "import numpy as np\n",
        "import pandas as pd\n",
        "df = pd.DataFrame({\n",
        "   \"Group\": [\"A\",\"B\",\"B\",\"C\",\"A\",\"A\",\"C\"],\n",
        "   \"Price\": [\"125\",\"100\",\"120\",\"36\",\"98\",\"170\",\"111\"],\n",
        "   \"Weight\": [\"12.13\",\"16.21\",\"9.54\",\"7.99\",\"10.06\",\"15.14\",\"10.54\"]\n",
        "})"
      ],
      "execution_count": null,
      "outputs": []
    },
    {
      "cell_type": "code",
      "metadata": {
        "colab": {
          "base_uri": "https://localhost:8080/"
        },
        "id": "28c1IMklWOOz",
        "outputId": "bff63843-f592-4f30-b6e4-a519e7af21ef"
      },
      "source": [
        "df = df.astype({\"Price\":\"int\", \"Weight\":\"float\"})\n",
        "df.dtypes"
      ],
      "execution_count": null,
      "outputs": [
        {
          "output_type": "execute_result",
          "data": {
            "text/plain": [
              "Group      object\n",
              "Price       int64\n",
              "Weight    float64\n",
              "dtype: object"
            ]
          },
          "metadata": {},
          "execution_count": 5
        }
      ]
    },
    {
      "cell_type": "code",
      "metadata": {
        "id": "jPcF7WDLW8U5"
      },
      "source": [
        "df['Group'] = df['Group'].replace({\"A\":\"Group Alpha\", \"B\":\"Group Beta\", \"C\":\"Group Gamma\"})"
      ],
      "execution_count": null,
      "outputs": []
    },
    {
      "cell_type": "code",
      "metadata": {
        "id": "xSEBvdHTXjKM"
      },
      "source": [
        "df.iloc[:2, :2] = np.nan"
      ],
      "execution_count": null,
      "outputs": []
    },
    {
      "cell_type": "code",
      "metadata": {
        "id": "feeXPacQX76M"
      },
      "source": [
        "df = df.fillna({\"Group\":\"Group Delta\", \"Price\": 90})"
      ],
      "execution_count": null,
      "outputs": []
    },
    {
      "cell_type": "code",
      "metadata": {
        "id": "7OM_-2EtYZyd"
      },
      "source": [
        "df = df.apply({\"Price\":lambda x: x+20, \"Weight\": lambda x: x*1.3})"
      ],
      "execution_count": null,
      "outputs": []
    }
  ]
}